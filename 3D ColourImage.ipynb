{
  "nbformat": 4,
  "nbformat_minor": 0,
  "metadata": {
    "colab": {
      "provenance": [],
      "authorship_tag": "ABX9TyMf6lG3it28TDkesu4ahDtG",
      "include_colab_link": true
    },
    "kernelspec": {
      "name": "python3",
      "display_name": "Python 3"
    },
    "language_info": {
      "name": "python"
    }
  },
  "cells": [
    {
      "cell_type": "markdown",
      "metadata": {
        "id": "view-in-github",
        "colab_type": "text"
      },
      "source": [
        "<a href=\"https://colab.research.google.com/github/HKRcodes/OPENCV-using-COLAB/blob/main/3D%20ColourImage.ipynb\" target=\"_parent\"><img src=\"https://colab.research.google.com/assets/colab-badge.svg\" alt=\"Open In Colab\"/></a>"
      ]
    },
    {
      "cell_type": "code",
      "execution_count": 1,
      "metadata": {
        "colab": {
          "base_uri": "https://localhost:8080/",
          "height": 273
        },
        "id": "1BbjAgh09zjm",
        "outputId": "d9ab0e54-e9b3-49b6-827a-9ac3b8e917da"
      },
      "outputs": [
        {
          "output_type": "display_data",
          "data": {
            "text/plain": [
              "<PIL.Image.Image image mode=RGB size=256x256 at 0x7F6AB2726750>"
            ],
            "image/png": "[encoded data removed]"
          },
          "metadata": {}
        }
      ],
      "source": [
        "import cv2\n",
        "import numpy as np\n",
        "from google.colab.patches import cv2_imshow\n",
        "img = np.zeros((256,256,3),np.uint8)\n",
        "img[0:128,0:128,0] = 255*np.ones((128,128),np.uint8)\n",
        "img[128:256,0:128,1] = 255*np.ones((128,128),np.uint8)\n",
        "img[128:256,128:256,2] = 255*np.ones((128,128),np.uint8)\n",
        "cv2_imshow(img)"
      ]
    },
    {
      "cell_type": "markdown",
      "source": [
        "Like this we can give desired colours to the specific sections of the image. "
      ],
      "metadata": {
        "id": "2fUxH5Sb_AfB"
      }
    }
  ]
}