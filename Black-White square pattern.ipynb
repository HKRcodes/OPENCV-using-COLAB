{
  "nbformat": 4,
  "nbformat_minor": 0,
  "metadata": {
    "colab": {
      "provenance": [],
      "authorship_tag": "ABX9TyPQIs5i+VcjDfslQOGScnrH",
      "include_colab_link": true
    },
    "kernelspec": {
      "name": "python3",
      "display_name": "Python 3"
    },
    "language_info": {
      "name": "python"
    }
  },
  "cells": [
    {
      "cell_type": "markdown",
      "metadata": {
        "id": "view-in-github",
        "colab_type": "text"
      },
      "source": [
        "<a href=\"https://colab.research.google.com/github/HKRcodes/OPENCV-using-COLAB/blob/main/Black-White%20square%20pattern.ipynb\" target=\"_parent\"><img src=\"https://colab.research.google.com/assets/colab-badge.svg\" alt=\"Open In Colab\"/></a>"
      ]
    },
    {
      "cell_type": "code",
      "execution_count": 3,
      "metadata": {
        "colab": {
          "base_uri": "https://localhost:8080/",
          "height": 308
        },
        "id": "ns_2P24-wvcb",
        "outputId": "de1c68d8-82d6-43ca-bb4d-a68fd50ed8bd"
      },
      "outputs": [
        {
          "output_type": "stream",
          "name": "stdout",
          "text": [
            "Displaying image\n"
          ]
        },
        {
          "output_type": "display_data",
          "data": {
            "text/plain": [
              "<PIL.Image.Image image mode=L size=256x256 at 0x7F6947413B90>"
            ],
            "image/png": "[encoded data removed]"
          },
          "metadata": {}
        },
        {
          "output_type": "execute_result",
          "data": {
            "text/plain": [
              "True"
            ]
          },
          "metadata": {},
          "execution_count": 3
        }
      ],
      "source": [
        "import cv2\n",
        "import numpy as np\n",
        "from google.colab.patches import cv2_imshow\n",
        "img = np.ones((256,256),np.uint8)\n",
        "black = np.zeros((128,128),np.uint8)\n",
        "white = 255*np.ones((128,128),np.uint8)\n",
        "gray1 = 100*np.ones((128,128),np.uint8)\n",
        "gray2 = 200*np.ones((128,128),np.uint8)\n",
        "img[0:128,0:128] = black\n",
        "img[0:128,128:256] = white\n",
        "img[128:256,0:128] = gray1\n",
        "img[128:256,128:256] = gray2\n",
        "print(\"Displaying image\")\n",
        "cv2_imshow(img)\n",
        "cv2.imwrite('/content/black-white-squares.jpg',img)\n",
        "\n"
      ]
    }
  ]
}